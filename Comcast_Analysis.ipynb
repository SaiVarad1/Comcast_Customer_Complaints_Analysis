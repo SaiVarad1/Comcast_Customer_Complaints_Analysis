{
 "cells": [
  {
   "cell_type": "markdown",
   "id": "d15debf8",
   "metadata": {},
   "source": [
    "Goal: Analyzing Comcast Customer Complaints"
   ]
  },
  {
   "cell_type": "code",
   "execution_count": 7,
   "id": "996bbf13",
   "metadata": {},
   "outputs": [
    {
     "data": {
      "text/plain": [
       "'3.4.0'"
      ]
     },
     "execution_count": 7,
     "metadata": {},
     "output_type": "execute_result"
    }
   ],
   "source": [
    "pyLDAvis.__version__"
   ]
  },
  {
   "cell_type": "code",
   "execution_count": 4,
   "id": "636e2a9e",
   "metadata": {},
   "outputs": [],
   "source": [
    "#libraries\n",
    "import pandas as pd\n",
    "import matplotlib.pyplot as plt\n",
    "import numpy as np\n",
    "\n",
    "# libraries for nlp:\n",
    "import gensim\n",
    "from gensim.utils import simple_preprocess\n",
    "from gensim.parsing.preprocessing import STOPWORDS\n",
    "from gensim.corpora import Dictionary\n",
    "from gensim.models import LdaModel\n",
    "import pyLDAvis.gensim_models as gensimvis\n",
    "import pyLDAvis"
   ]
  },
  {
   "cell_type": "code",
   "execution_count": 100,
   "id": "bcc7488a",
   "metadata": {},
   "outputs": [
    {
     "name": "stdout",
     "output_type": "stream",
     "text": [
      "<class 'pandas.core.frame.DataFrame'>\n",
      "RangeIndex: 2224 entries, 0 to 2223\n",
      "Data columns (total 11 columns):\n",
      " #   Column                       Non-Null Count  Dtype \n",
      "---  ------                       --------------  ----- \n",
      " 0   Ticket #                     2224 non-null   object\n",
      " 1   Customer Complaint           2224 non-null   object\n",
      " 2   Date                         2224 non-null   object\n",
      " 3   Date_month_year              2224 non-null   object\n",
      " 4   Time                         2224 non-null   object\n",
      " 5   Received Via                 2224 non-null   object\n",
      " 6   City                         2224 non-null   object\n",
      " 7   State                        2224 non-null   object\n",
      " 8   Zip code                     2224 non-null   int64 \n",
      " 9   Status                       2224 non-null   object\n",
      " 10  Filing on Behalf of Someone  2224 non-null   object\n",
      "dtypes: int64(1), object(10)\n",
      "memory usage: 191.2+ KB\n"
     ]
    }
   ],
   "source": [
    "#reading in dataset\n",
    "complaints=pd.read_csv(\"Comcast_telecom_complaints_data.csv\")\n",
    "complaints.info() # 2224 rows"
   ]
  },
  {
   "cell_type": "code",
   "execution_count": 101,
   "id": "c7a68f5e",
   "metadata": {},
   "outputs": [
    {
     "data": {
      "text/html": [
       "<div>\n",
       "<style scoped>\n",
       "    .dataframe tbody tr th:only-of-type {\n",
       "        vertical-align: middle;\n",
       "    }\n",
       "\n",
       "    .dataframe tbody tr th {\n",
       "        vertical-align: top;\n",
       "    }\n",
       "\n",
       "    .dataframe thead th {\n",
       "        text-align: right;\n",
       "    }\n",
       "</style>\n",
       "<table border=\"1\" class=\"dataframe\">\n",
       "  <thead>\n",
       "    <tr style=\"text-align: right;\">\n",
       "      <th></th>\n",
       "      <th>Ticket #</th>\n",
       "      <th>Customer Complaint</th>\n",
       "      <th>Date</th>\n",
       "      <th>Date_month_year</th>\n",
       "      <th>Time</th>\n",
       "      <th>Received Via</th>\n",
       "      <th>City</th>\n",
       "      <th>State</th>\n",
       "      <th>Zip code</th>\n",
       "      <th>Status</th>\n",
       "      <th>Filing on Behalf of Someone</th>\n",
       "    </tr>\n",
       "  </thead>\n",
       "  <tbody>\n",
       "    <tr>\n",
       "      <th>0</th>\n",
       "      <td>250635</td>\n",
       "      <td>Comcast Cable Internet Speeds</td>\n",
       "      <td>22-04-15</td>\n",
       "      <td>22-Apr-15</td>\n",
       "      <td>3:53:50 PM</td>\n",
       "      <td>Customer Care Call</td>\n",
       "      <td>Abingdon</td>\n",
       "      <td>Maryland</td>\n",
       "      <td>21009</td>\n",
       "      <td>Closed</td>\n",
       "      <td>No</td>\n",
       "    </tr>\n",
       "    <tr>\n",
       "      <th>1</th>\n",
       "      <td>223441</td>\n",
       "      <td>Payment disappear - service got disconnected</td>\n",
       "      <td>04-08-15</td>\n",
       "      <td>04-Aug-15</td>\n",
       "      <td>10:22:56 AM</td>\n",
       "      <td>Internet</td>\n",
       "      <td>Acworth</td>\n",
       "      <td>Georgia</td>\n",
       "      <td>30102</td>\n",
       "      <td>Closed</td>\n",
       "      <td>No</td>\n",
       "    </tr>\n",
       "    <tr>\n",
       "      <th>2</th>\n",
       "      <td>242732</td>\n",
       "      <td>Speed and Service</td>\n",
       "      <td>18-04-15</td>\n",
       "      <td>18-Apr-15</td>\n",
       "      <td>9:55:47 AM</td>\n",
       "      <td>Internet</td>\n",
       "      <td>Acworth</td>\n",
       "      <td>Georgia</td>\n",
       "      <td>30101</td>\n",
       "      <td>Closed</td>\n",
       "      <td>Yes</td>\n",
       "    </tr>\n",
       "    <tr>\n",
       "      <th>3</th>\n",
       "      <td>277946</td>\n",
       "      <td>Comcast Imposed a New Usage Cap of 300GB that ...</td>\n",
       "      <td>05-07-15</td>\n",
       "      <td>05-Jul-15</td>\n",
       "      <td>11:59:35 AM</td>\n",
       "      <td>Internet</td>\n",
       "      <td>Acworth</td>\n",
       "      <td>Georgia</td>\n",
       "      <td>30101</td>\n",
       "      <td>Open</td>\n",
       "      <td>Yes</td>\n",
       "    </tr>\n",
       "    <tr>\n",
       "      <th>4</th>\n",
       "      <td>307175</td>\n",
       "      <td>Comcast not working and no service to boot</td>\n",
       "      <td>26-05-15</td>\n",
       "      <td>26-May-15</td>\n",
       "      <td>1:25:26 PM</td>\n",
       "      <td>Internet</td>\n",
       "      <td>Acworth</td>\n",
       "      <td>Georgia</td>\n",
       "      <td>30101</td>\n",
       "      <td>Solved</td>\n",
       "      <td>No</td>\n",
       "    </tr>\n",
       "  </tbody>\n",
       "</table>\n",
       "</div>"
      ],
      "text/plain": [
       "  Ticket #                                 Customer Complaint      Date   \n",
       "0   250635                      Comcast Cable Internet Speeds  22-04-15  \\\n",
       "1   223441       Payment disappear - service got disconnected  04-08-15   \n",
       "2   242732                                  Speed and Service  18-04-15   \n",
       "3   277946  Comcast Imposed a New Usage Cap of 300GB that ...  05-07-15   \n",
       "4   307175         Comcast not working and no service to boot  26-05-15   \n",
       "\n",
       "  Date_month_year         Time        Received Via      City     State   \n",
       "0       22-Apr-15   3:53:50 PM  Customer Care Call  Abingdon  Maryland  \\\n",
       "1       04-Aug-15  10:22:56 AM            Internet   Acworth   Georgia   \n",
       "2       18-Apr-15   9:55:47 AM            Internet   Acworth   Georgia   \n",
       "3       05-Jul-15  11:59:35 AM            Internet   Acworth   Georgia   \n",
       "4       26-May-15   1:25:26 PM            Internet   Acworth   Georgia   \n",
       "\n",
       "   Zip code  Status Filing on Behalf of Someone  \n",
       "0     21009  Closed                          No  \n",
       "1     30102  Closed                          No  \n",
       "2     30101  Closed                         Yes  \n",
       "3     30101    Open                         Yes  \n",
       "4     30101  Solved                          No  "
      ]
     },
     "execution_count": 101,
     "metadata": {},
     "output_type": "execute_result"
    }
   ],
   "source": [
    "complaints.head()"
   ]
  },
  {
   "cell_type": "code",
   "execution_count": 102,
   "id": "8ebb9b49",
   "metadata": {},
   "outputs": [
    {
     "data": {
      "text/plain": [
       "(2224, 11)"
      ]
     },
     "execution_count": 102,
     "metadata": {},
     "output_type": "execute_result"
    }
   ],
   "source": [
    "# removing null values\n",
    "complaints=complaints.dropna()\n",
    "complaints.shape # no null values present"
   ]
  },
  {
   "cell_type": "code",
   "execution_count": 103,
   "id": "7b31629b",
   "metadata": {},
   "outputs": [
    {
     "name": "stderr",
     "output_type": "stream",
     "text": [
      "C:\\Users\\skv08\\AppData\\Local\\Temp/ipykernel_18116/3194632988.py:3: UserWarning: Could not infer format, so each element will be parsed individually, falling back to `dateutil`. To ensure parsing is consistent and as-expected, please specify a format.\n",
      "  complaints[\"Date_month_year\"]=pd.to_datetime(complaints[\"Date_month_year\"])\n"
     ]
    },
    {
     "data": {
      "text/plain": [
       "0    4\n",
       "1    8\n",
       "2    4\n",
       "3    7\n",
       "4    5\n",
       "Name: monthly_level, dtype: int32"
      ]
     },
     "execution_count": 103,
     "metadata": {},
     "output_type": "execute_result"
    }
   ],
   "source": [
    "# number of complaints at monthly and daily granularity levels\n",
    "\n",
    "complaints[\"Date_month_year\"]=pd.to_datetime(complaints[\"Date_month_year\"])\n",
    "complaints[\"monthly_level\"]=complaints[\"Date_month_year\"].dt.month\n",
    "\n",
    "complaints[\"monthly_level\"].head() \n"
   ]
  },
  {
   "cell_type": "code",
   "execution_count": 104,
   "id": "8b37d3f1",
   "metadata": {},
   "outputs": [
    {
     "data": {
      "text/plain": [
       "monthly_level\n",
       "1       55\n",
       "2       59\n",
       "3       45\n",
       "4      375\n",
       "5      317\n",
       "6     1046\n",
       "7       49\n",
       "8       67\n",
       "9       55\n",
       "10      53\n",
       "11      38\n",
       "12      65\n",
       "dtype: int64"
      ]
     },
     "execution_count": 104,
     "metadata": {},
     "output_type": "execute_result"
    }
   ],
   "source": [
    "monthly_complaints=complaints.groupby(\"monthly_level\").size()\n",
    "monthly_complaints"
   ]
  },
  {
   "cell_type": "code",
   "execution_count": 105,
   "id": "76ea3e9f",
   "metadata": {},
   "outputs": [
    {
     "data": {
      "image/png": "[encoded data removed]",
      "text/plain": [
       "<Figure size 432x288 with 1 Axes>"
      ]
     },
     "metadata": {
      "needs_background": "light"
     },
     "output_type": "display_data"
    }
   ],
   "source": [
    "#table with frequency of complaint types\n",
    "monthly_complaints.plot(kind='line', xlabel='Month', ylabel='Number of complaints', title='Monthly Complaint Trend')\n",
    "plt.show()"
   ]
  },
  {
   "cell_type": "markdown",
   "id": "6a2d65d5",
   "metadata": {},
   "source": [
    "Insight: It seems like there is a sharp rise in complaints from March that peaks at June"
   ]
  },
  {
   "cell_type": "code",
   "execution_count": 106,
   "id": "6442ccaf",
   "metadata": {},
   "outputs": [
    {
     "data": {
      "image/png": "[encoded data removed]",
      "text/plain": [
       "<Figure size 432x288 with 1 Axes>"
      ]
     },
     "metadata": {
      "needs_background": "light"
     },
     "output_type": "display_data"
    }
   ],
   "source": [
    "complaints[\"daily_level\"]=complaints[\"Date_month_year\"].dt.day\n",
    "daily_complaints=complaints.groupby(\"daily_level\").size()\n",
    "\n",
    "daily_complaints.plot(kind='line', xlabel='Day of the Month', ylabel='Number of complaints', title='Daily Complaint Trends')\n",
    "plt.show()"
   ]
  },
  {
   "cell_type": "markdown",
   "id": "bb4e8d1c",
   "metadata": {},
   "source": [
    "It tooks like there are the most complaints around the very beginning and end of the month"
   ]
  },
  {
   "cell_type": "markdown",
   "id": "821bfb2e",
   "metadata": {},
   "source": [
    "Frequency of complaint types\n"
   ]
  },
  {
   "cell_type": "code",
   "execution_count": 107,
   "id": "71b84813",
   "metadata": {},
   "outputs": [],
   "source": [
    "# creating categories of complaints based on key words\n",
    "\n",
    "#finding keywords among complaints:\n",
    "\n",
    "#tokenizing the complaints column\n",
    "def preprocess(text):\n",
    "    result = []\n",
    "    for token in simple_preprocess(text):\n",
    "        if token not in STOPWORDS and len(token) > 3:\n",
    "            result.append(token)\n",
    "    return result\n",
    "\n",
    "complaints['tokens'] = complaints['Customer Complaint'].apply(preprocess)"
   ]
  },
  {
   "cell_type": "code",
   "execution_count": 108,
   "id": "4a3737d9",
   "metadata": {},
   "outputs": [
    {
     "data": {
      "text/html": [
       "\n",
       "<link rel=\"stylesheet\" type=\"text/css\" href=\"https://cdn.jsdelivr.net/gh/bmabey/pyLDAvis@3.4.0/pyLDAvis/js/ldavis.v1.0.0.css\">\n",
       "\n",
       "\n",
       "<div id=\"ldavis_el1811623897697527525549543867\" style=\"background-color:white;\"></div>\n",
       "<script type=\"text/javascript\">\n",
       "\n",
       "var ldavis_el1811623897697527525549543867_data = {\"mdsDat\": {\"x\": [-0.013169202451265495, 0.000702927206063358, -0.16108230572256788, -0.0720061862267541, 0.24555476719452407], \"y\": [0.005869817833728433, -0.1333886467935917, -0.1048914602182141, 0.23237916561227823, 3.112356579922818e-05], \"topics\": [1, 2, 3, 4, 5], \"cluster\": [1, 1, 1, 1, 1], \"Freq\": [23.31066982102356, 22.406652189398606, 19.565625383645532, 17.92860476446997, 16.78844784146233]}, \"tinfo\": {\"Term\": [\"service\", \"data\", \"billing\", \"speed\", \"caps\", \"complaint\", \"internet\", \"speeds\", \"charges\", \"practices\", \"slow\", \"issues\", \"unfair\", \"xfinity\", \"comcast\", \"throttling\", \"usage\", \"customer\", \"cable\", \"poor\", \"services\", \"high\", \"issue\", \"overage\", \"deceptive\", \"pricing\", \"monthly\", \"fees\", \"paying\", \"connection\", \"practices\", \"unfair\", \"throttling\", \"deceptive\", \"advertising\", \"promised\", \"switch\", \"bait\", \"access\", \"appointment\", \"lied\", \"month\", \"installation\", \"complaints\", \"years\", \"practice\", \"improper\", \"trade\", \"lying\", \"wont\", \"higher\", \"install\", \"throttles\", \"consumer\", \"failing\", \"quoted\", \"costs\", \"changing\", \"violation\", \"giving\", \"streaming\", \"pricing\", \"business\", \"charging\", \"information\", \"comcast\", \"contract\", \"billing\", \"services\", \"internet\", \"false\", \"monopolistic\", \"phone\", \"charged\", \"price\", \"xfinity\", \"poor\", \"help\", \"refund\", \"connectivity\", \"incorrect\", \"intermittent\", \"unreliable\", \"shitty\", \"horrible\", \"cancelling\", \"quality\", \"provide\", \"days\", \"throttled\", \"loss\", \"provider\", \"provided\", \"claims\", \"notice\", \"awful\", \"excessive\", \"agreement\", \"inability\", \"inconsistent\", \"getting\", \"transfer\", \"request\", \"refusing\", \"times\", \"marketing\", \"service\", \"customer\", \"connection\", \"paying\", \"internet\", \"comcast\", \"terrible\", \"failure\", \"problems\", \"xfinity\", \"services\", \"issues\", \"misleading\", \"lack\", \"complaint\", \"monthly\", \"fraudulent\", \"cramming\", \"credit\", \"outage\", \"monopoly\", \"increased\", \"signal\", \"email\", \"mbps\", \"year\", \"change\", \"refusal\", \"competition\", \"rates\", \"extremely\", \"weeks\", \"returned\", \"resolution\", \"promotion\", \"consent\", \"technician\", \"unresolved\", \"predatory\", \"continues\", \"paid\", \"unable\", \"unreturned\", \"person\", \"issues\", \"billing\", \"cable\", \"charge\", \"comcast\", \"equipment\", \"service\", \"price\", \"monopolistic\", \"phone\", \"internet\", \"modem\", \"customer\", \"contract\", \"false\", \"data\", \"caps\", \"usage\", \"charges\", \"overage\", \"fees\", \"home\", \"meter\", \"said\", \"tucson\", \"unauthorized\", \"limit\", \"plan\", \"scam\", \"atlanta\", \"limits\", \"security\", \"communication\", \"download\", \"outrageous\", \"trial\", \"extortion\", \"continuous\", \"egregious\", \"upload\", \"scheduled\", \"book\", \"concerning\", \"license\", \"register\", \"xfinity\", \"account\", \"comcast\", \"internet\", \"cable\", \"problems\", \"bandwidth\", \"sales\", \"lack\", \"speed\", \"slow\", \"speeds\", \"high\", \"issue\", \"billed\", \"broadband\", \"payment\", \"slowing\", \"availability\", \"overcharges\", \"hbogo\", \"added\", \"advertised\", \"area\", \"consistently\", \"disconnection\", \"ordered\", \"increasing\", \"sold\", \"term\", \"committing\", \"corporate\", \"knowing\", \"overbilled\", \"check\", \"unreasonable\", \"options\", \"regular\", \"short\", \"internet\", \"charged\", \"prices\", \"services\", \"comcast\", \"terrible\", \"paying\", \"equipment\", \"xfinity\", \"contract\", \"pricing\"], \"Freq\": [387.0, 195.0, 226.0, 95.0, 81.0, 84.0, 460.0, 61.0, 55.0, 60.0, 48.0, 69.0, 54.0, 96.0, 1030.0, 47.0, 37.0, 60.0, 50.0, 36.0, 75.0, 24.0, 21.0, 21.0, 24.0, 42.0, 20.0, 19.0, 32.0, 29.0, 59.576961686015494, 53.530162316891726, 46.599823933554234, 24.204467172565224, 19.73948606665726, 19.328057784774117, 18.50207755660898, 17.69057775544145, 17.685953274104136, 11.592569149439052, 9.947150004527474, 9.540294697592516, 9.134077277476706, 8.730131685324237, 8.71989696960239, 8.3246092052586, 7.509957213076704, 7.105712883867318, 7.105229516215543, 7.0869067125893235, 6.699823519829923, 6.699521613149061, 6.69926487360943, 6.697758509829062, 6.697316347288586, 6.292884217860395, 6.292676607491928, 6.291756227938589, 6.290491547984109, 6.289596921625332, 7.010997388704995, 32.00377539364833, 15.021472296322898, 12.579240595203869, 8.28369411455081, 342.9259254134186, 22.193618120881794, 68.84643182756636, 31.620048040241834, 92.70527528099271, 15.777045667774075, 12.54640725315256, 11.37443959150074, 9.120648373223212, 8.549978184289726, 9.53504659274382, 36.16717548750619, 19.147110628910927, 19.13466942182548, 17.607670061421747, 14.49460340811297, 13.342183855797263, 12.182478115959858, 10.63660596082347, 10.616234950446325, 10.25010897837161, 9.847873495735678, 9.84018057351436, 9.458779961615257, 9.45829325099155, 9.073374460108262, 8.3000842034477, 7.912558959114772, 7.911452244660557, 7.901403460218393, 7.528334054582337, 7.141343506427565, 7.1413747351217305, 6.756032452678535, 6.754797015070319, 6.7532736641354045, 6.752802187021048, 6.748033336919298, 6.3683137427768735, 6.364573535393924, 6.3635768830447565, 323.248243776692, 50.4407208714009, 24.330860591294456, 23.724277482520808, 129.38816371081597, 175.80220496255333, 13.565376094675342, 10.639213175948576, 10.467442409554007, 18.173613213953743, 14.633182642662153, 11.714099497405403, 8.576825274389899, 8.568797976638365, 84.12781810331307, 20.02753165366058, 17.738253286664133, 15.80129949529498, 15.393614683969417, 14.61953444850831, 13.046414117365941, 11.893933408819871, 11.490103515151416, 10.316407457497949, 9.537344960447916, 7.9801890165594465, 7.978649310835463, 7.978502323809545, 7.58971033356194, 7.589230796703628, 7.587802162623665, 7.199165140597955, 6.812185546936897, 6.810399089237277, 6.808120457785715, 6.790100912567622, 6.420945989922873, 6.032870312014245, 6.032203217050463, 6.031739642584106, 6.378396238868083, 5.994927706337438, 5.643735795439274, 5.641542961844469, 57.616157986873795, 156.5788059605856, 36.81490259117243, 16.535564204423242, 230.86273400285046, 13.987286716563169, 62.71506209460996, 12.585641050797028, 10.980095780796931, 10.513929421046253, 22.108218803387665, 7.617679104665591, 9.571131358319464, 8.073402069479773, 7.939855377587729, 194.37537528221932, 80.62235392477548, 36.5521137518717, 53.87672467809061, 20.47769603866394, 18.514684139770825, 15.490151951174044, 12.051974956371524, 10.902639950591364, 10.13200986932891, 9.737983931628658, 8.976654087494396, 8.593018696504407, 7.829394875138787, 7.066364050544185, 7.065755208021834, 7.065552260514384, 7.06417063288859, 6.676963243877084, 5.919088992437243, 5.918688582490112, 5.915571845093415, 5.536852293728328, 5.5366731148478765, 5.528578373724897, 5.520537873827632, 5.154489438460729, 5.154489438460729, 5.154489438460729, 5.154489438460729, 61.098174753637245, 10.89537893976926, 215.29670116422577, 40.92977071632727, 13.244841897773746, 8.365249429044, 7.355294261435968, 7.074380781814451, 6.15538022685463, 94.81259555910069, 47.51079419005457, 60.76892693607586, 24.031925880400642, 21.285747154863742, 14.25765360473564, 13.086998643992368, 13.049383040787879, 11.524137444496427, 9.948279252838528, 7.585661317988014, 7.216686903110336, 6.823636036782376, 7.8606058559633905, 6.807257680847711, 6.4353516093117396, 6.435294539880977, 6.43497609245732, 6.4109367361370335, 6.045894405038925, 6.043418162438119, 6.034416601123876, 5.655522948485286, 5.655424218370066, 5.655178249123478, 5.6519749419747525, 5.648456040873908, 5.625007923856326, 5.623090961676998, 5.264938052260595, 175.24784008938346, 16.229510869514712, 12.383340552405251, 28.55429476179131, 65.17586946958257, 8.163531535841852, 8.08117235753058, 7.056608861903127, 7.406721829913643, 6.3293206018142945, 6.309828537737202], \"Total\": [387.0, 195.0, 226.0, 95.0, 81.0, 84.0, 460.0, 61.0, 55.0, 60.0, 48.0, 69.0, 54.0, 96.0, 1030.0, 47.0, 37.0, 60.0, 50.0, 36.0, 75.0, 24.0, 21.0, 21.0, 24.0, 42.0, 20.0, 19.0, 32.0, 29.0, 60.3122994702681, 54.21635496268079, 47.289104862477814, 24.89780612816742, 20.42625637879984, 20.019262467007856, 19.190747744874447, 18.377800638325358, 18.37731792094494, 12.279565537930798, 10.637417412764664, 10.230886270200873, 9.824265105824322, 9.418022463176642, 9.417360635326204, 9.011582036895586, 8.198344926055661, 7.792032262938872, 7.791950402138845, 7.790747849657398, 7.385523653311062, 7.38546153289691, 7.385479150445732, 7.385298806163937, 7.385244740636594, 6.978936911004552, 6.978880569755969, 6.978826714933167, 6.978658361447536, 6.978714782150465, 7.787375232387129, 42.021375154455164, 19.004090398651098, 15.778310882556319, 9.790071254060429, 1030.0634350126306, 36.93964152320694, 226.20497010096392, 75.1504801619197, 460.37926860090704, 30.74607649324495, 24.041523930412403, 22.403970861931086, 25.86686173134637, 26.194094174343448, 96.38851054530537, 36.8714658940828, 19.849336144756727, 19.85039532127113, 18.303453801464205, 15.196096607533214, 14.036781069302851, 12.877179706623012, 11.331074044048217, 11.316162481857885, 10.944544622306461, 10.543138277378329, 10.542955715195026, 10.15654361108142, 10.156488091161632, 9.770046457937864, 8.996978735023115, 8.610491559785318, 8.610481029676079, 8.610508299267938, 8.223947394757207, 7.837415024175335, 7.837467042389455, 7.450960846048418, 7.450914456907112, 7.450806693993285, 7.450806623489942, 7.450643979094527, 7.064423139070053, 7.06425007342293, 7.064214333301002, 387.0380470566758, 60.54193836732136, 29.169016699999048, 32.32970013000029, 460.37926860090704, 1030.0634350126306, 22.25114389608101, 17.835205105275623, 19.35883218869299, 96.38851054530537, 75.1504801619197, 69.86070513566217, 13.876704623801393, 17.082422669551676, 84.84339647822141, 20.786634263827413, 18.434183653302313, 16.500548951462072, 16.09537155051254, 15.316093069487588, 13.742076316704278, 12.58798752609045, 12.197579734836175, 11.0138563571604, 10.234212865342036, 8.675295671542745, 8.675189944366998, 8.675250258909204, 8.285558786866607, 8.285468834107197, 8.285467338478782, 7.895780852167669, 7.50608810188094, 7.5059904787423894, 7.506065464585377, 7.506227902081311, 7.116225333381137, 6.726577144965098, 6.726528020007579, 6.726497197135773, 7.115501493033079, 6.711232181324464, 6.336818852932128, 6.336692645354455, 69.86070513566217, 226.20497010096392, 50.591334562703786, 23.850288152532325, 1030.0634350126306, 21.581565393079956, 387.0380470566758, 26.194094174343448, 24.041523930412403, 22.403970861931086, 460.37926860090704, 13.270781465378693, 60.54193836732136, 36.93964152320694, 30.74607649324495, 195.081663825424, 81.32577978460724, 37.249444103662, 55.66816258932986, 21.175192085930405, 19.24908160679411, 16.189505706812266, 12.748240425462138, 11.60107083637274, 10.836436114673461, 10.439170322366948, 9.6745589013575, 9.292105989071437, 8.527391048295032, 7.7626674184186015, 7.7626309916145795, 7.76264949799315, 7.7626049941720545, 7.380175117420661, 6.61551807572344, 6.615544914246625, 6.615419764069775, 6.233129193250806, 6.233092614989338, 6.233012770707942, 6.233442597265557, 5.850746260096455, 5.850746260096455, 5.850746260096455, 5.850746260096455, 96.38851054530537, 15.483287231830978, 1030.0634350126306, 460.37926860090704, 50.591334562703786, 19.35883218869299, 15.077453665000348, 13.575002069928587, 17.082422669551676, 95.53203590180388, 48.2134722163759, 61.91599036009674, 24.734679501455094, 21.98537216202394, 14.955625983003383, 13.78369867406255, 13.783910811329557, 12.221608410456424, 10.644098393272513, 8.299981185003531, 7.910398669696565, 7.519682723042554, 8.680874336026568, 7.5189128942785945, 7.129231980583141, 7.129275618453433, 7.129259117130125, 7.129473122109397, 6.738730455894317, 6.738648526386756, 6.738045901279396, 6.348169871339639, 6.348156958639508, 6.347999123612021, 6.348092148824094, 6.347668897373307, 6.346790721667822, 6.346582054015017, 5.957567622585202, 460.37926860090704, 25.86686173134637, 18.690926186025596, 75.1504801619197, 1030.0634350126306, 22.25114389608101, 32.32970013000029, 21.581565393079956, 96.38851054530537, 36.93964152320694, 42.021375154455164], \"Category\": [\"Default\", \"Default\", \"Default\", \"Default\", \"Default\", \"Default\", \"Default\", \"Default\", \"Default\", \"Default\", \"Default\", \"Default\", \"Default\", \"Default\", \"Default\", \"Default\", \"Default\", \"Default\", \"Default\", \"Default\", \"Default\", \"Default\", \"Default\", \"Default\", \"Default\", \"Default\", \"Default\", \"Default\", \"Default\", \"Default\", \"Topic1\", \"Topic1\", \"Topic1\", \"Topic1\", \"Topic1\", \"Topic1\", \"Topic1\", \"Topic1\", \"Topic1\", \"Topic1\", \"Topic1\", \"Topic1\", \"Topic1\", \"Topic1\", \"Topic1\", \"Topic1\", \"Topic1\", \"Topic1\", \"Topic1\", \"Topic1\", \"Topic1\", \"Topic1\", \"Topic1\", \"Topic1\", \"Topic1\", \"Topic1\", \"Topic1\", \"Topic1\", \"Topic1\", \"Topic1\", \"Topic1\", \"Topic1\", \"Topic1\", \"Topic1\", \"Topic1\", \"Topic1\", \"Topic1\", \"Topic1\", \"Topic1\", \"Topic1\", \"Topic1\", \"Topic1\", \"Topic1\", \"Topic1\", \"Topic1\", \"Topic1\", \"Topic2\", \"Topic2\", \"Topic2\", \"Topic2\", \"Topic2\", \"Topic2\", \"Topic2\", \"Topic2\", \"Topic2\", \"Topic2\", \"Topic2\", \"Topic2\", \"Topic2\", \"Topic2\", \"Topic2\", \"Topic2\", \"Topic2\", \"Topic2\", \"Topic2\", \"Topic2\", \"Topic2\", \"Topic2\", \"Topic2\", \"Topic2\", \"Topic2\", \"Topic2\", \"Topic2\", \"Topic2\", \"Topic2\", \"Topic2\", \"Topic2\", \"Topic2\", \"Topic2\", \"Topic2\", \"Topic2\", \"Topic2\", \"Topic2\", \"Topic2\", \"Topic2\", \"Topic2\", \"Topic2\", \"Topic2\", \"Topic2\", \"Topic2\", \"Topic3\", \"Topic3\", \"Topic3\", \"Topic3\", \"Topic3\", \"Topic3\", \"Topic3\", \"Topic3\", \"Topic3\", \"Topic3\", \"Topic3\", \"Topic3\", \"Topic3\", \"Topic3\", \"Topic3\", \"Topic3\", \"Topic3\", \"Topic3\", \"Topic3\", \"Topic3\", \"Topic3\", \"Topic3\", \"Topic3\", \"Topic3\", \"Topic3\", \"Topic3\", \"Topic3\", \"Topic3\", \"Topic3\", \"Topic3\", \"Topic3\", \"Topic3\", \"Topic3\", \"Topic3\", \"Topic3\", \"Topic3\", \"Topic3\", \"Topic3\", \"Topic3\", \"Topic3\", \"Topic3\", \"Topic3\", \"Topic3\", \"Topic3\", \"Topic3\", \"Topic4\", \"Topic4\", \"Topic4\", \"Topic4\", \"Topic4\", \"Topic4\", \"Topic4\", \"Topic4\", \"Topic4\", \"Topic4\", \"Topic4\", \"Topic4\", \"Topic4\", \"Topic4\", \"Topic4\", \"Topic4\", \"Topic4\", \"Topic4\", \"Topic4\", \"Topic4\", \"Topic4\", \"Topic4\", \"Topic4\", \"Topic4\", \"Topic4\", \"Topic4\", \"Topic4\", \"Topic4\", \"Topic4\", \"Topic4\", \"Topic4\", \"Topic4\", \"Topic4\", \"Topic4\", \"Topic4\", \"Topic4\", \"Topic4\", \"Topic4\", \"Topic4\", \"Topic5\", \"Topic5\", \"Topic5\", \"Topic5\", \"Topic5\", \"Topic5\", \"Topic5\", \"Topic5\", \"Topic5\", \"Topic5\", \"Topic5\", \"Topic5\", \"Topic5\", \"Topic5\", \"Topic5\", \"Topic5\", \"Topic5\", \"Topic5\", \"Topic5\", \"Topic5\", \"Topic5\", \"Topic5\", \"Topic5\", \"Topic5\", \"Topic5\", \"Topic5\", \"Topic5\", \"Topic5\", \"Topic5\", \"Topic5\", \"Topic5\", \"Topic5\", \"Topic5\", \"Topic5\", \"Topic5\", \"Topic5\", \"Topic5\", \"Topic5\", \"Topic5\", \"Topic5\", \"Topic5\"], \"logprob\": [30.0, 29.0, 28.0, 27.0, 26.0, 25.0, 24.0, 23.0, 22.0, 21.0, 20.0, 19.0, 18.0, 17.0, 16.0, 15.0, 14.0, 13.0, 12.0, 11.0, 10.0, 9.0, 8.0, 7.0, 6.0, 5.0, 4.0, 3.0, 2.0, 1.0, -3.3521, -3.4591, -3.5978, -4.2528, -4.4567, -4.4778, -4.5215, -4.5663, -4.5666, -4.989, -5.1421, -5.1838, -5.2274, -5.2726, -5.2738, -5.3202, -5.4231, -5.4785, -5.4785, -5.4811, -5.5373, -5.5373, -5.5374, -5.5376, -5.5377, -5.6, -5.6, -5.6001, -5.6003, -5.6005, -5.4919, -3.9735, -4.7299, -4.9073, -5.3251, -1.6019, -4.3396, -3.2075, -3.9856, -2.9099, -4.6808, -4.9099, -5.008, -5.2288, -5.2934, -5.1844, -3.8117, -4.4477, -4.4483, -4.5315, -4.726, -4.8089, -4.8998, -5.0355, -5.0374, -5.0725, -5.1126, -5.1133, -5.1529, -5.1529, -5.1945, -5.2836, -5.3314, -5.3315, -5.3328, -5.3811, -5.4339, -5.4339, -5.4894, -5.4896, -5.4898, -5.4899, -5.4906, -5.5485, -5.5491, -5.5492, -1.6214, -3.479, -4.2081, -4.2333, -2.537, -2.2305, -4.7923, -5.0353, -5.0515, -4.4998, -4.7165, -4.939, -5.2508, -5.2517, -2.8319, -4.2671, -4.3885, -4.5041, -4.5303, -4.5819, -4.6957, -4.7882, -4.8227, -4.9305, -5.009, -5.1873, -5.1875, -5.1875, -5.2374, -5.2375, -5.2377, -5.2903, -5.3455, -5.3458, -5.3461, -5.3488, -5.4047, -5.467, -5.4671, -5.4672, -5.4113, -5.4733, -5.5337, -5.5341, -3.2104, -2.2107, -3.6583, -4.4587, -1.8224, -4.6261, -3.1256, -4.7317, -4.8681, -4.9115, -4.1683, -5.2338, -5.0055, -5.1757, -5.1923, -1.9071, -2.7871, -3.5781, -3.1902, -4.1575, -4.2583, -4.4367, -4.6876, -4.7879, -4.8612, -4.9008, -4.9822, -5.0259, -5.119, -5.2215, -5.2216, -5.2216, -5.2218, -5.2782, -5.3987, -5.3987, -5.3993, -5.4654, -5.4655, -5.4669, -5.4684, -5.537, -5.537, -5.537, -5.537, -3.0644, -4.7885, -1.8048, -3.465, -4.5932, -5.0528, -5.1814, -5.2204, -5.3595, -2.5592, -3.2502, -3.0041, -3.9318, -4.0531, -4.4539, -4.5395, -4.5424, -4.6667, -4.8138, -5.0849, -5.1348, -5.1908, -5.0493, -5.1932, -5.2493, -5.2494, -5.2494, -5.2531, -5.3118, -5.3122, -5.3137, -5.3785, -5.3785, -5.3786, -5.3791, -5.3798, -5.3839, -5.3843, -5.4501, -1.9449, -4.3243, -4.5948, -3.7593, -2.9341, -5.0115, -5.0216, -5.1572, -5.1088, -5.266, -5.269], \"loglift\": [30.0, 29.0, 28.0, 27.0, 26.0, 25.0, 24.0, 23.0, 22.0, 21.0, 20.0, 19.0, 18.0, 17.0, 16.0, 15.0, 14.0, 13.0, 12.0, 11.0, 10.0, 9.0, 8.0, 7.0, 6.0, 5.0, 4.0, 3.0, 2.0, 1.0, 1.444, 1.4435, 1.4416, 1.428, 1.4221, 1.4211, 1.4197, 1.4181, 1.4179, 1.3987, 1.3892, 1.3864, 1.3834, 1.3804, 1.3793, 1.377, 1.3686, 1.3641, 1.364, 1.3616, 1.3588, 1.3588, 1.3587, 1.3585, 1.3585, 1.3528, 1.3528, 1.3526, 1.3524, 1.3523, 1.3512, 1.1839, 1.2211, 1.2297, 1.2892, 0.3564, 0.9468, 0.2667, 0.5906, -0.1464, 0.7891, 0.8059, 0.7784, 0.4138, 0.3367, -0.8572, 1.4765, 1.4598, 1.4591, 1.4571, 1.4486, 1.4451, 1.4404, 1.4326, 1.432, 1.4303, 1.4276, 1.4268, 1.4246, 1.4246, 1.4218, 1.4152, 1.4113, 1.4111, 1.4099, 1.4074, 1.4028, 1.4028, 1.3979, 1.3977, 1.3975, 1.3974, 1.3968, 1.3921, 1.3915, 1.3914, 1.3157, 1.3133, 1.3145, 1.1863, 0.2266, -0.2722, 1.0009, 0.9792, 0.8809, -0.1726, -0.1404, -0.2899, 1.0147, 0.8059, 1.6229, 1.5942, 1.5929, 1.5881, 1.5868, 1.5849, 1.5794, 1.5747, 1.5716, 1.566, 1.5609, 1.5479, 1.5477, 1.5477, 1.5437, 1.5436, 1.5434, 1.539, 1.5344, 1.5341, 1.5338, 1.5311, 1.5286, 1.5226, 1.5224, 1.5224, 1.522, 1.5185, 1.5156, 1.5152, 1.4387, 1.2635, 1.3135, 1.2651, 0.1358, 1.1977, -0.1885, 0.8984, 0.8477, 0.8749, -1.4047, 1.0763, -0.2132, 0.1107, 0.2775, 1.7151, 1.7101, 1.6999, 1.6861, 1.6853, 1.6799, 1.6746, 1.6626, 1.6567, 1.6516, 1.6492, 1.6439, 1.6406, 1.6334, 1.6248, 1.6247, 1.6247, 1.6245, 1.6186, 1.6075, 1.6075, 1.607, 1.6003, 1.6003, 1.5988, 1.5973, 1.5921, 1.5921, 1.5921, 1.5921, 1.2629, 1.3674, 0.1534, -0.7014, 0.3786, 0.8797, 1.001, 1.067, 0.698, 1.7769, 1.7698, 1.7658, 1.7557, 1.7521, 1.7367, 1.7326, 1.7297, 1.7257, 1.7169, 1.6945, 1.6927, 1.6873, 1.6852, 1.685, 1.6821, 1.6821, 1.682, 1.6782, 1.676, 1.6756, 1.6742, 1.6689, 1.6689, 1.6689, 1.6683, 1.6678, 1.6638, 1.6634, 1.6609, 0.8186, 1.3183, 1.3728, 0.8168, -0.9758, 0.7818, 0.398, 0.6666, -0.7815, 0.0204, -0.1116]}, \"token.table\": {\"Topic\": [1, 3, 4, 5, 5, 1, 2, 1, 5, 4, 5, 2, 1, 1, 4, 5, 1, 3, 4, 5, 1, 2, 3, 4, 2, 4, 3, 1, 2, 3, 1, 5, 1, 3, 4, 1, 4, 5, 5, 2, 1, 2, 3, 4, 5, 5, 4, 3, 3, 1, 4, 2, 5, 2, 3, 5, 1, 3, 4, 1, 3, 5, 5, 1, 3, 3, 2, 3, 4, 2, 1, 5, 4, 4, 3, 3, 5, 2, 4, 3, 1, 1, 2, 1, 2, 3, 4, 3, 2, 1, 5, 2, 5, 1, 4, 2, 1, 2, 2, 2, 3, 5, 1, 5, 1, 1, 2, 1, 2, 3, 4, 5, 5, 2, 3, 5, 2, 4, 5, 4, 1, 4, 4, 2, 1, 2, 3, 4, 1, 2, 3, 4, 1, 3, 3, 1, 3, 2, 5, 5, 3, 4, 4, 5, 5, 3, 2, 5, 5, 3, 1, 3, 4, 2, 1, 1, 3, 1, 3, 5, 1, 5, 1, 3, 5, 2, 4, 1, 3, 2, 2, 2, 2, 1, 3, 2, 3, 2, 4, 5, 2, 3, 3, 4, 2, 4, 4, 4, 4, 2, 3, 5, 1, 2, 5, 2, 5, 3, 5, 5, 5, 5, 1, 5, 1, 1, 3, 5, 2, 5, 2, 1, 1, 2, 1, 2, 4, 4, 3, 4, 1, 5, 2, 3, 3, 4, 4, 1, 3, 1, 1, 2, 4, 5, 3, 1], \"Freq\": [0.9794682813581352, 0.25834307276665947, 0.7104434501083136, 0.9308903391029929, 0.9215661568557829, 0.9791319382810524, 0.8931457015563882, 0.9772332712368985, 0.9309856489129628, 0.901751887938802, 0.9394877452767998, 0.9727688682809457, 0.97944255432081, 0.464269375687041, 0.464269375687041, 0.9361025754395421, 0.30503308556484265, 0.6940607888939173, 0.8545918379850523, 0.943143078458522, 0.7893037596298055, 0.1578607519259611, 0.7313505429302631, 0.25696100157009244, 0.9136972204050088, 0.995994138814653, 0.922170010259497, 0.8597433702088216, 0.29349750222018883, 0.7127796482490301, 0.3479355204923636, 0.6185520364308686, 0.017963589123232065, 0.017963589123232065, 0.9700338126545315, 0.8239158232312512, 0.12675628049711557, 0.06337814024855778, 0.9451658639062803, 0.929100241023463, 0.3329892008017876, 0.17086326338517382, 0.22425803319304066, 0.20872500924893395, 0.06310290977293352, 0.8904658840125654, 0.9017591395228024, 0.965535361680223, 0.9900593739379835, 0.9556146245338593, 0.8545918379850523, 0.8227908484827595, 0.13713180808045994, 0.9834209540584122, 0.9325589485577775, 0.8416053813848859, 0.9478289482556402, 0.8919947223875861, 0.9625983697717613, 0.5955661477163695, 0.216569508260498, 0.1624271311953735, 0.9451542919619186, 0.8597367357168862, 0.9696647091600114, 0.9319449354073682, 0.8258737884578277, 0.16517475769156553, 0.9944553280702385, 0.8861282287195067, 0.963940351870934, 0.8416002299686081, 0.9484869787814018, 0.9626040186810643, 0.9079471963059275, 0.6487017852972354, 0.3243508926486177, 0.8931516295114856, 0.9069719252869948, 0.965546018490347, 0.9478358870740163, 0.3924821698814897, 0.6167576955280553, 0.5203916019500983, 0.22767132585316802, 0.26019580097504913, 0.9870600784036265, 0.9764468195897282, 0.9394955858461986, 0.8597571597776521, 0.8849111520530372, 0.9572108538762854, 0.9702975936513802, 0.9478000922604554, 0.9265261257289812, 0.9720609807110177, 0.9758067112515248, 0.9394761487322023, 0.9394819978789171, 0.9212892206186509, 0.9532897911702122, 0.8415769156059011, 0.8171544202685964, 0.10214430253357455, 0.9478080643735051, 0.9160990570851293, 0.9261382603187994, 0.20200735859072688, 0.28020375546455667, 0.04778668697845152, 0.08905700755075056, 0.38012137369222804, 0.9551805557457879, 0.17177038188631588, 0.8302235124505267, 0.9451562144874688, 0.5268573535557063, 0.35123823570380425, 0.11707941190126807, 0.8545918379850523, 0.9400778038474097, 0.9302749708554828, 0.9017561194859841, 0.9211829277114414, 0.8983630078136202, 0.8493513527351157, 0.977114716253832, 0.9413063763711522, 0.3603160934494473, 0.6485689682090051, 0.602828101786673, 0.37676756361667063, 0.5407311132866693, 0.4575417112425663, 0.9459996946893504, 0.9774324272498887, 0.9621567275469747, 0.9290972985509064, 0.945359672805362, 0.8416021779294358, 0.979362029986792, 0.9069584469911481, 0.9445014675115393, 0.945179714609978, 0.9638576066237909, 0.8432293923168609, 0.742351457127474, 0.24745048570915798, 0.9431285632895108, 0.946866186479584, 0.4909843914629992, 0.4909843914629992, 0.968564070468526, 0.9763647613960839, 0.8877464542015014, 0.9948219604788563, 0.8919906350131044, 0.34358889985267393, 0.49629507756497343, 0.19088272214037438, 0.32101137954768355, 0.6420227590953671, 0.7615172012429325, 0.07139223761652493, 0.14278447523304985, 0.5165600849539235, 0.41324806796313884, 0.9490859131954725, 0.932579129908597, 0.9485006169178448, 0.929099104790187, 0.8891873856340116, 0.9484841929329806, 0.8597297950263827, 0.9655458441974867, 0.9571597790619379, 0.9221635988868744, 0.8493262481428637, 0.8545918379850523, 0.9453907550449521, 0.9395161035262225, 0.932588446498114, 0.9325763173824032, 0.9481883315040015, 0.4419888828813684, 0.5156536966949298, 0.9381532938611419, 0.9625499724072277, 0.9017539696735869, 0.8345432767045292, 0.16277469483710633, 0.0025837253148747034, 0.42581231591671265, 0.19959952308595905, 0.38589241129952084, 0.9707817597201108, 0.839268694331718, 0.9018182491223321, 0.9955723533991109, 0.9818674921488384, 0.8903754259456756, 0.9944308116457315, 0.016150916656329124, 0.9852059160360767, 0.8988908060943959, 0.9900604318596501, 0.8431436216409431, 0.890386251264715, 0.6291811362770322, 0.35953207787258984, 0.8861330726938941, 0.9478058034430349, 0.993886438254254, 0.849347055616442, 0.8983535698759868, 0.9394955947361864, 0.9069547675625262, 0.9228126197744243, 0.8940236066778274, 0.9579305338637897, 0.9960094151879131, 0.9452288859116181, 0.9318810697212014, 0.8919841207041017, 0.9468473281706203, 0.962616349543998, 0.9933034140598764, 0.8597641106987017, 0.8865494282403056, 0.898501675972972, 0.103746804919241, 0.1867442488546338, 0.6328555100073702, 0.0726227634434687, 0.9221587716303558, 0.9556817826684252], \"Term\": [\"access\", \"account\", \"account\", \"added\", \"advertised\", \"advertising\", \"agreement\", \"appointment\", \"area\", \"atlanta\", \"availability\", \"awful\", \"bait\", \"bandwidth\", \"bandwidth\", \"billed\", \"billing\", \"billing\", \"book\", \"broadband\", \"business\", \"business\", \"cable\", \"cable\", \"cancelling\", \"caps\", \"change\", \"changing\", \"charge\", \"charge\", \"charged\", \"charged\", \"charges\", \"charges\", \"charges\", \"charging\", \"charging\", \"charging\", \"check\", \"claims\", \"comcast\", \"comcast\", \"comcast\", \"comcast\", \"comcast\", \"committing\", \"communication\", \"competition\", \"complaint\", \"complaints\", \"concerning\", \"connection\", \"connection\", \"connectivity\", \"consent\", \"consistently\", \"consumer\", \"continues\", \"continuous\", \"contract\", \"contract\", \"contract\", \"corporate\", \"costs\", \"cramming\", \"credit\", \"customer\", \"customer\", \"data\", \"days\", \"deceptive\", \"disconnection\", \"download\", \"egregious\", \"email\", \"equipment\", \"equipment\", \"excessive\", \"extortion\", \"extremely\", \"failing\", \"failure\", \"failure\", \"false\", \"false\", \"false\", \"fees\", \"fraudulent\", \"getting\", \"giving\", \"hbogo\", \"help\", \"high\", \"higher\", \"home\", \"horrible\", \"improper\", \"inability\", \"inconsistent\", \"incorrect\", \"increased\", \"increasing\", \"information\", \"information\", \"install\", \"installation\", \"intermittent\", \"internet\", \"internet\", \"internet\", \"internet\", \"internet\", \"issue\", \"issues\", \"issues\", \"knowing\", \"lack\", \"lack\", \"lack\", \"license\", \"lied\", \"limit\", \"limits\", \"loss\", \"lying\", \"marketing\", \"mbps\", \"meter\", \"misleading\", \"misleading\", \"modem\", \"modem\", \"monopolistic\", \"monopolistic\", \"monopoly\", \"month\", \"monthly\", \"notice\", \"options\", \"ordered\", \"outage\", \"outrageous\", \"overage\", \"overbilled\", \"overcharges\", \"paid\", \"paying\", \"paying\", \"payment\", \"person\", \"phone\", \"phone\", \"plan\", \"poor\", \"practice\", \"practices\", \"predatory\", \"price\", \"price\", \"price\", \"prices\", \"prices\", \"pricing\", \"pricing\", \"pricing\", \"problems\", \"problems\", \"promised\", \"promotion\", \"provide\", \"provided\", \"provider\", \"quality\", \"quoted\", \"rates\", \"refund\", \"refusal\", \"refusing\", \"register\", \"regular\", \"request\", \"resolution\", \"returned\", \"said\", \"sales\", \"sales\", \"scam\", \"scheduled\", \"security\", \"service\", \"service\", \"service\", \"services\", \"services\", \"services\", \"shitty\", \"short\", \"signal\", \"slow\", \"slowing\", \"sold\", \"speed\", \"speeds\", \"speeds\", \"streaming\", \"switch\", \"technician\", \"term\", \"terrible\", \"terrible\", \"throttled\", \"throttles\", \"throttling\", \"times\", \"trade\", \"transfer\", \"trial\", \"tucson\", \"unable\", \"unauthorized\", \"unfair\", \"unreasonable\", \"unreliable\", \"unresolved\", \"unreturned\", \"upload\", \"usage\", \"violation\", \"weeks\", \"wont\", \"xfinity\", \"xfinity\", \"xfinity\", \"xfinity\", \"year\", \"years\"]}, \"R\": 30, \"lambda.step\": 0.01, \"plot.opts\": {\"xlab\": \"PC1\", \"ylab\": \"PC2\"}, \"topic.order\": [1, 5, 4, 2, 3]};\n",
       "\n",
       "function LDAvis_load_lib(url, callback){\n",
       "  var s = document.createElement('script');\n",
       "  s.src = url;\n",
       "  s.async = true;\n",
       "  s.onreadystatechange = s.onload = callback;\n",
       "  s.onerror = function(){console.warn(\"failed to load library \" + url);};\n",
       "  document.getElementsByTagName(\"head\")[0].appendChild(s);\n",
       "}\n",
       "\n",
       "if(typeof(LDAvis) !== \"undefined\"){\n",
       "   // already loaded: just create the visualization\n",
       "   !function(LDAvis){\n",
       "       new LDAvis(\"#\" + \"ldavis_el1811623897697527525549543867\", ldavis_el1811623897697527525549543867_data);\n",
       "   }(LDAvis);\n",
       "}else if(typeof define === \"function\" && define.amd){\n",
       "   // require.js is available: use it to load d3/LDAvis\n",
       "   require.config({paths: {d3: \"https://d3js.org/d3.v5\"}});\n",
       "   require([\"d3\"], function(d3){\n",
       "      window.d3 = d3;\n",
       "      LDAvis_load_lib(\"https://cdn.jsdelivr.net/gh/bmabey/pyLDAvis@3.4.0/pyLDAvis/js/ldavis.v3.0.0.js\", function(){\n",
       "        new LDAvis(\"#\" + \"ldavis_el1811623897697527525549543867\", ldavis_el1811623897697527525549543867_data);\n",
       "      });\n",
       "    });\n",
       "}else{\n",
       "    // require.js not available: dynamically load d3 & LDAvis\n",
       "    LDAvis_load_lib(\"https://d3js.org/d3.v5.js\", function(){\n",
       "         LDAvis_load_lib(\"https://cdn.jsdelivr.net/gh/bmabey/pyLDAvis@3.4.0/pyLDAvis/js/ldavis.v3.0.0.js\", function(){\n",
       "                 new LDAvis(\"#\" + \"ldavis_el1811623897697527525549543867\", ldavis_el1811623897697527525549543867_data);\n",
       "            })\n",
       "         });\n",
       "}\n",
       "</script>"
      ],
      "text/plain": [
       "<IPython.core.display.HTML object>"
      ]
     },
     "execution_count": 108,
     "metadata": {},
     "output_type": "execute_result"
    }
   ],
   "source": [
    "dictionary = Dictionary(complaints['tokens'])\n",
    "\n",
    "corpus = [dictionary.doc2bow(doc) for doc in complaints['tokens']]\n",
    "\n",
    "lda_model = LdaModel(corpus=corpus, id2word=dictionary, num_topics=5, passes=10)\n",
    "\n",
    "lda_vis = gensimvis.prepare(lda_model, corpus, dictionary)\n",
    "pyLDAvis.display(lda_vis)\n"
   ]
  },
  {
   "cell_type": "markdown",
   "id": "f7346c22",
   "metadata": {},
   "source": [
    "Insight from word frequencies:\n",
    "\n",
    "We see that there are distinct topics of complaints that users talk about, such as topic 4 being about unfair pricing, topic 5 being about slow speeds, and topics 1-3 being about general issues with the words \"comcast\", \"service\" etc.\n",
    "It seems like people are complaining that they were falsely promised a certain standard of quality service that was not delivered, and is too expensive for that customers are getting.\n",
    "\n",
    "We can see that the maximum complaints are regarding data, internet, service, billing, issues, speeds"
   ]
  },
  {
   "cell_type": "code",
   "execution_count": 140,
   "id": "fa111f53",
   "metadata": {},
   "outputs": [
    {
     "name": "stdout",
     "output_type": "stream",
     "text": [
      "comcast: 1244\n",
      "internet: 531\n",
      "service: 438\n",
      "billing: 292\n",
      "data: 218\n",
      "speed: 121\n",
      "xfinity: 103\n",
      "customer: 93\n",
      "issues: 90\n",
      "caps: 78\n"
     ]
    }
   ],
   "source": [
    "#Frequency table:\n",
    "    \n",
    "word_freq = {}\n",
    "\n",
    "for doc in corpus:\n",
    "    for word_id, freq in doc:\n",
    "        word = dictionary[word_id]\n",
    "        if word not in word_freq:\n",
    "            word_freq[word] = 1\n",
    "        else:\n",
    "            word_freq[word] += 1\n",
    "        \n",
    "\n",
    "top_words = sorted(word_freq.items(), key=lambda x: x[1], reverse=True)[:10] # top 10 words \n",
    "\n",
    "for word, freq in top_words:\n",
    "    print(f'{word}: {freq}')\n",
    "\n"
   ]
  },
  {
   "cell_type": "markdown",
   "id": "82b40162",
   "metadata": {},
   "source": [
    "Insight:\n",
    "\n",
    "The frequency table also confirms that, as stated previously, it seems like people are complaining that they were falsely promised a certain standard of quality service that was not delivered, and is too expensive for that customers are getting. \n",
    "\n",
    "We can see that the maximum complaints are regarding data, internet and customer service, billing, issues, speeds, false advertising etc"
   ]
  },
  {
   "cell_type": "markdown",
   "id": "f020d85d",
   "metadata": {},
   "source": [
    "\n",
    "Creating a new categorical variable with value as Open and Closed.\n",
    "\n",
    "Open & Pending is to be categorized as Open and Closed & Solved is to be categorized as Closed."
   ]
  },
  {
   "cell_type": "code",
   "execution_count": 110,
   "id": "0214498f",
   "metadata": {},
   "outputs": [
    {
     "data": {
      "text/plain": [
       "Status\n",
       "Solved     973\n",
       "Closed     734\n",
       "Open       363\n",
       "Pending    154\n",
       "Name: count, dtype: int64"
      ]
     },
     "execution_count": 110,
     "metadata": {},
     "output_type": "execute_result"
    }
   ],
   "source": [
    "complaints[\"Status\"].value_counts()"
   ]
  },
  {
   "cell_type": "code",
   "execution_count": 111,
   "id": "003235bc",
   "metadata": {},
   "outputs": [],
   "source": [
    "def open_closed(status):\n",
    "    if status==\"Open\" or status==\"Pending\":\n",
    "        status=\"Open\"\n",
    "    elif status==\"Closed\" or status==\"Solved\":\n",
    "        status=\"Closed\"\n",
    "    else:\n",
    "        status=\"ERROR\"\n",
    "    return status\n",
    "        \n",
    "complaints[\"Status\"]=complaints[\"Status\"].apply(open_closed)"
   ]
  },
  {
   "cell_type": "code",
   "execution_count": 112,
   "id": "f357ba7c",
   "metadata": {},
   "outputs": [
    {
     "data": {
      "text/plain": [
       "Status\n",
       "Closed    1707\n",
       "Open       517\n",
       "Name: count, dtype: int64"
      ]
     },
     "execution_count": 112,
     "metadata": {},
     "output_type": "execute_result"
    }
   ],
   "source": [
    "complaints[\"Status\"].value_counts()"
   ]
  },
  {
   "cell_type": "code",
   "execution_count": 113,
   "id": "c74326e7",
   "metadata": {},
   "outputs": [],
   "source": [
    "# statewise status of complaints, with a stacked bar chart"
   ]
  },
  {
   "cell_type": "markdown",
   "id": "b6c1146a",
   "metadata": {},
   "source": [
    "Which state has the maximum complaints?\n",
    "Which state has the highest percentage of unresolved complaints?\n"
   ]
  },
  {
   "cell_type": "code",
   "execution_count": 114,
   "id": "9fb0a7b2",
   "metadata": {
    "scrolled": true
   },
   "outputs": [
    {
     "data": {
      "image/png": "[encoded data removed]",
      "text/plain": [
       "<Figure size 432x288 with 1 Axes>"
      ]
     },
     "metadata": {
      "needs_background": "light"
     },
     "output_type": "display_data"
    }
   ],
   "source": [
    "open_closed_complaints=complaints.groupby([\"State\",\"Status\"])[\"Status\"].size().unstack()\n",
    "\n",
    "open_closed_complaints.plot(kind='bar',stacked=True,xlabel='State', ylabel='Type of complaints', title='Complaints by State')\n",
    "plt.show()\n"
   ]
  },
  {
   "cell_type": "markdown",
   "id": "1cf7a127",
   "metadata": {},
   "source": [
    "Georgia has the most complaints. "
   ]
  },
  {
   "cell_type": "code",
   "execution_count": 116,
   "id": "24536b67",
   "metadata": {},
   "outputs": [
    {
     "data": {
      "text/html": [
       "<div>\n",
       "<style scoped>\n",
       "    .dataframe tbody tr th:only-of-type {\n",
       "        vertical-align: middle;\n",
       "    }\n",
       "\n",
       "    .dataframe tbody tr th {\n",
       "        vertical-align: top;\n",
       "    }\n",
       "\n",
       "    .dataframe thead th {\n",
       "        text-align: right;\n",
       "    }\n",
       "</style>\n",
       "<table border=\"1\" class=\"dataframe\">\n",
       "  <thead>\n",
       "    <tr style=\"text-align: right;\">\n",
       "      <th>Status</th>\n",
       "      <th>Closed</th>\n",
       "      <th>Open</th>\n",
       "      <th>Percentage of Unresolved Complaints</th>\n",
       "    </tr>\n",
       "    <tr>\n",
       "      <th>State</th>\n",
       "      <th></th>\n",
       "      <th></th>\n",
       "      <th></th>\n",
       "    </tr>\n",
       "  </thead>\n",
       "  <tbody>\n",
       "    <tr>\n",
       "      <th>Kansas</th>\n",
       "      <td>1.0</td>\n",
       "      <td>1.0</td>\n",
       "      <td>50.000000</td>\n",
       "    </tr>\n",
       "    <tr>\n",
       "      <th>Kentucky</th>\n",
       "      <td>4.0</td>\n",
       "      <td>3.0</td>\n",
       "      <td>42.857143</td>\n",
       "    </tr>\n",
       "    <tr>\n",
       "      <th>Mississippi</th>\n",
       "      <td>23.0</td>\n",
       "      <td>16.0</td>\n",
       "      <td>41.025641</td>\n",
       "    </tr>\n",
       "    <tr>\n",
       "      <th>Maine</th>\n",
       "      <td>3.0</td>\n",
       "      <td>2.0</td>\n",
       "      <td>40.000000</td>\n",
       "    </tr>\n",
       "    <tr>\n",
       "      <th>Alabama</th>\n",
       "      <td>17.0</td>\n",
       "      <td>9.0</td>\n",
       "      <td>34.615385</td>\n",
       "    </tr>\n",
       "    <tr>\n",
       "      <th>Vermont</th>\n",
       "      <td>2.0</td>\n",
       "      <td>1.0</td>\n",
       "      <td>33.333333</td>\n",
       "    </tr>\n",
       "    <tr>\n",
       "      <th>Delaware</th>\n",
       "      <td>8.0</td>\n",
       "      <td>4.0</td>\n",
       "      <td>33.333333</td>\n",
       "    </tr>\n",
       "    <tr>\n",
       "      <th>New Hampshire</th>\n",
       "      <td>8.0</td>\n",
       "      <td>4.0</td>\n",
       "      <td>33.333333</td>\n",
       "    </tr>\n",
       "    <tr>\n",
       "      <th>Tennessee</th>\n",
       "      <td>96.0</td>\n",
       "      <td>47.0</td>\n",
       "      <td>32.867133</td>\n",
       "    </tr>\n",
       "    <tr>\n",
       "      <th>Texas</th>\n",
       "      <td>49.0</td>\n",
       "      <td>22.0</td>\n",
       "      <td>30.985915</td>\n",
       "    </tr>\n",
       "    <tr>\n",
       "      <th>Arizona</th>\n",
       "      <td>14.0</td>\n",
       "      <td>6.0</td>\n",
       "      <td>30.000000</td>\n",
       "    </tr>\n",
       "    <tr>\n",
       "      <th>Georgia</th>\n",
       "      <td>208.0</td>\n",
       "      <td>80.0</td>\n",
       "      <td>27.777778</td>\n",
       "    </tr>\n",
       "    <tr>\n",
       "      <th>California</th>\n",
       "      <td>159.0</td>\n",
       "      <td>61.0</td>\n",
       "      <td>27.727273</td>\n",
       "    </tr>\n",
       "    <tr>\n",
       "      <th>Colorado</th>\n",
       "      <td>58.0</td>\n",
       "      <td>22.0</td>\n",
       "      <td>27.500000</td>\n",
       "    </tr>\n",
       "    <tr>\n",
       "      <th>Utah</th>\n",
       "      <td>16.0</td>\n",
       "      <td>6.0</td>\n",
       "      <td>27.272727</td>\n",
       "    </tr>\n",
       "    <tr>\n",
       "      <th>West Virginia</th>\n",
       "      <td>8.0</td>\n",
       "      <td>3.0</td>\n",
       "      <td>27.272727</td>\n",
       "    </tr>\n",
       "    <tr>\n",
       "      <th>New Mexico</th>\n",
       "      <td>11.0</td>\n",
       "      <td>4.0</td>\n",
       "      <td>26.666667</td>\n",
       "    </tr>\n",
       "    <tr>\n",
       "      <th>Oregon</th>\n",
       "      <td>36.0</td>\n",
       "      <td>13.0</td>\n",
       "      <td>26.530612</td>\n",
       "    </tr>\n",
       "    <tr>\n",
       "      <th>New Jersey</th>\n",
       "      <td>56.0</td>\n",
       "      <td>19.0</td>\n",
       "      <td>25.333333</td>\n",
       "    </tr>\n",
       "    <tr>\n",
       "      <th>Missouri</th>\n",
       "      <td>3.0</td>\n",
       "      <td>1.0</td>\n",
       "      <td>25.000000</td>\n",
       "    </tr>\n",
       "    <tr>\n",
       "      <th>Connecticut</th>\n",
       "      <td>9.0</td>\n",
       "      <td>3.0</td>\n",
       "      <td>25.000000</td>\n",
       "    </tr>\n",
       "    <tr>\n",
       "      <th>Washington</th>\n",
       "      <td>75.0</td>\n",
       "      <td>23.0</td>\n",
       "      <td>23.469388</td>\n",
       "    </tr>\n",
       "    <tr>\n",
       "      <th>Michigan</th>\n",
       "      <td>92.0</td>\n",
       "      <td>23.0</td>\n",
       "      <td>20.000000</td>\n",
       "    </tr>\n",
       "    <tr>\n",
       "      <th>Maryland</th>\n",
       "      <td>63.0</td>\n",
       "      <td>15.0</td>\n",
       "      <td>19.230769</td>\n",
       "    </tr>\n",
       "    <tr>\n",
       "      <th>Virginia</th>\n",
       "      <td>49.0</td>\n",
       "      <td>11.0</td>\n",
       "      <td>18.333333</td>\n",
       "    </tr>\n",
       "    <tr>\n",
       "      <th>Massachusetts</th>\n",
       "      <td>50.0</td>\n",
       "      <td>11.0</td>\n",
       "      <td>18.032787</td>\n",
       "    </tr>\n",
       "    <tr>\n",
       "      <th>Illinois</th>\n",
       "      <td>135.0</td>\n",
       "      <td>29.0</td>\n",
       "      <td>17.682927</td>\n",
       "    </tr>\n",
       "    <tr>\n",
       "      <th>South Carolina</th>\n",
       "      <td>15.0</td>\n",
       "      <td>3.0</td>\n",
       "      <td>16.666667</td>\n",
       "    </tr>\n",
       "    <tr>\n",
       "      <th>Florida</th>\n",
       "      <td>201.0</td>\n",
       "      <td>39.0</td>\n",
       "      <td>16.250000</td>\n",
       "    </tr>\n",
       "    <tr>\n",
       "      <th>Pennsylvania</th>\n",
       "      <td>110.0</td>\n",
       "      <td>20.0</td>\n",
       "      <td>15.384615</td>\n",
       "    </tr>\n",
       "    <tr>\n",
       "      <th>Indiana</th>\n",
       "      <td>50.0</td>\n",
       "      <td>9.0</td>\n",
       "      <td>15.254237</td>\n",
       "    </tr>\n",
       "    <tr>\n",
       "      <th>District Of Columbia</th>\n",
       "      <td>14.0</td>\n",
       "      <td>2.0</td>\n",
       "      <td>12.500000</td>\n",
       "    </tr>\n",
       "    <tr>\n",
       "      <th>Minnesota</th>\n",
       "      <td>29.0</td>\n",
       "      <td>4.0</td>\n",
       "      <td>12.121212</td>\n",
       "    </tr>\n",
       "    <tr>\n",
       "      <th>Louisiana</th>\n",
       "      <td>12.0</td>\n",
       "      <td>1.0</td>\n",
       "      <td>7.692308</td>\n",
       "    </tr>\n",
       "    <tr>\n",
       "      <th>Rhode Island</th>\n",
       "      <td>1.0</td>\n",
       "      <td>0.0</td>\n",
       "      <td>0.000000</td>\n",
       "    </tr>\n",
       "    <tr>\n",
       "      <th>Ohio</th>\n",
       "      <td>3.0</td>\n",
       "      <td>0.0</td>\n",
       "      <td>0.000000</td>\n",
       "    </tr>\n",
       "    <tr>\n",
       "      <th>District of Columbia</th>\n",
       "      <td>1.0</td>\n",
       "      <td>0.0</td>\n",
       "      <td>0.000000</td>\n",
       "    </tr>\n",
       "    <tr>\n",
       "      <th>North Carolina</th>\n",
       "      <td>3.0</td>\n",
       "      <td>0.0</td>\n",
       "      <td>0.000000</td>\n",
       "    </tr>\n",
       "    <tr>\n",
       "      <th>Iowa</th>\n",
       "      <td>1.0</td>\n",
       "      <td>0.0</td>\n",
       "      <td>0.000000</td>\n",
       "    </tr>\n",
       "    <tr>\n",
       "      <th>Arkansas</th>\n",
       "      <td>6.0</td>\n",
       "      <td>0.0</td>\n",
       "      <td>0.000000</td>\n",
       "    </tr>\n",
       "    <tr>\n",
       "      <th>Nevada</th>\n",
       "      <td>1.0</td>\n",
       "      <td>0.0</td>\n",
       "      <td>0.000000</td>\n",
       "    </tr>\n",
       "    <tr>\n",
       "      <th>Montana</th>\n",
       "      <td>1.0</td>\n",
       "      <td>0.0</td>\n",
       "      <td>0.000000</td>\n",
       "    </tr>\n",
       "    <tr>\n",
       "      <th>New York</th>\n",
       "      <td>6.0</td>\n",
       "      <td>0.0</td>\n",
       "      <td>0.000000</td>\n",
       "    </tr>\n",
       "  </tbody>\n",
       "</table>\n",
       "</div>"
      ],
      "text/plain": [
       "Status                Closed  Open  Percentage of Unresolved Complaints\n",
       "State                                                                  \n",
       "Kansas                   1.0   1.0                            50.000000\n",
       "Kentucky                 4.0   3.0                            42.857143\n",
       "Mississippi             23.0  16.0                            41.025641\n",
       "Maine                    3.0   2.0                            40.000000\n",
       "Alabama                 17.0   9.0                            34.615385\n",
       "Vermont                  2.0   1.0                            33.333333\n",
       "Delaware                 8.0   4.0                            33.333333\n",
       "New Hampshire            8.0   4.0                            33.333333\n",
       "Tennessee               96.0  47.0                            32.867133\n",
       "Texas                   49.0  22.0                            30.985915\n",
       "Arizona                 14.0   6.0                            30.000000\n",
       "Georgia                208.0  80.0                            27.777778\n",
       "California             159.0  61.0                            27.727273\n",
       "Colorado                58.0  22.0                            27.500000\n",
       "Utah                    16.0   6.0                            27.272727\n",
       "West Virginia            8.0   3.0                            27.272727\n",
       "New Mexico              11.0   4.0                            26.666667\n",
       "Oregon                  36.0  13.0                            26.530612\n",
       "New Jersey              56.0  19.0                            25.333333\n",
       "Missouri                 3.0   1.0                            25.000000\n",
       "Connecticut              9.0   3.0                            25.000000\n",
       "Washington              75.0  23.0                            23.469388\n",
       "Michigan                92.0  23.0                            20.000000\n",
       "Maryland                63.0  15.0                            19.230769\n",
       "Virginia                49.0  11.0                            18.333333\n",
       "Massachusetts           50.0  11.0                            18.032787\n",
       "Illinois               135.0  29.0                            17.682927\n",
       "South Carolina          15.0   3.0                            16.666667\n",
       "Florida                201.0  39.0                            16.250000\n",
       "Pennsylvania           110.0  20.0                            15.384615\n",
       "Indiana                 50.0   9.0                            15.254237\n",
       "District Of Columbia    14.0   2.0                            12.500000\n",
       "Minnesota               29.0   4.0                            12.121212\n",
       "Louisiana               12.0   1.0                             7.692308\n",
       "Rhode Island             1.0   0.0                             0.000000\n",
       "Ohio                     3.0   0.0                             0.000000\n",
       "District of Columbia     1.0   0.0                             0.000000\n",
       "North Carolina           3.0   0.0                             0.000000\n",
       "Iowa                     1.0   0.0                             0.000000\n",
       "Arkansas                 6.0   0.0                             0.000000\n",
       "Nevada                   1.0   0.0                             0.000000\n",
       "Montana                  1.0   0.0                             0.000000\n",
       "New York                 6.0   0.0                             0.000000"
      ]
     },
     "execution_count": 116,
     "metadata": {},
     "output_type": "execute_result"
    }
   ],
   "source": [
    "complaints_by_state_status=complaints.groupby([\"State\",\"Status\"])[\"Status\"].size().unstack()\n",
    "\n",
    "complaints_by_state_status=complaints_by_state_status.fillna(0)\n",
    "complaints_by_state_status[\"Percentage of Unresolved Complaints\"]=(complaints_by_state_status[\"Open\"]/(complaints_by_state_status[\"Closed\"]+complaints_by_state_status[\"Open\"]))*100\n",
    "complaints_by_state_status.sort_values('Percentage of Unresolved Complaints',ascending=False)\n",
    "\n"
   ]
  },
  {
   "cell_type": "markdown",
   "id": "341bafb0",
   "metadata": {},
   "source": [
    "\n",
    "It seems like because Kansas only has 2 records of complaints, one open and one closed, it has the highest percentage of unresolved complaints, at 50%"
   ]
  },
  {
   "cell_type": "markdown",
   "id": "90cb4907",
   "metadata": {},
   "source": [
    "The percentage of complaints resolved till date, which were received through the Internet and customer care calls."
   ]
  },
  {
   "cell_type": "code",
   "execution_count": 117,
   "id": "c85f967a",
   "metadata": {},
   "outputs": [
    {
     "data": {
      "text/html": [
       "<div>\n",
       "<style scoped>\n",
       "    .dataframe tbody tr th:only-of-type {\n",
       "        vertical-align: middle;\n",
       "    }\n",
       "\n",
       "    .dataframe tbody tr th {\n",
       "        vertical-align: top;\n",
       "    }\n",
       "\n",
       "    .dataframe thead th {\n",
       "        text-align: right;\n",
       "    }\n",
       "</style>\n",
       "<table border=\"1\" class=\"dataframe\">\n",
       "  <thead>\n",
       "    <tr style=\"text-align: right;\">\n",
       "      <th></th>\n",
       "      <th>Ticket #</th>\n",
       "      <th>Customer Complaint</th>\n",
       "      <th>Date</th>\n",
       "      <th>Date_month_year</th>\n",
       "      <th>Time</th>\n",
       "      <th>Received Via</th>\n",
       "      <th>City</th>\n",
       "      <th>State</th>\n",
       "      <th>Zip code</th>\n",
       "      <th>Status</th>\n",
       "      <th>Filing on Behalf of Someone</th>\n",
       "      <th>monthly_level</th>\n",
       "      <th>daily_level</th>\n",
       "      <th>tokens</th>\n",
       "    </tr>\n",
       "  </thead>\n",
       "  <tbody>\n",
       "    <tr>\n",
       "      <th>0</th>\n",
       "      <td>250635</td>\n",
       "      <td>Comcast Cable Internet Speeds</td>\n",
       "      <td>22-04-15</td>\n",
       "      <td>2015-04-22</td>\n",
       "      <td>3:53:50 PM</td>\n",
       "      <td>Customer Care Call</td>\n",
       "      <td>Abingdon</td>\n",
       "      <td>Maryland</td>\n",
       "      <td>21009</td>\n",
       "      <td>Closed</td>\n",
       "      <td>No</td>\n",
       "      <td>4</td>\n",
       "      <td>22</td>\n",
       "      <td>[comcast, cable, internet, speeds]</td>\n",
       "    </tr>\n",
       "    <tr>\n",
       "      <th>1</th>\n",
       "      <td>223441</td>\n",
       "      <td>Payment disappear - service got disconnected</td>\n",
       "      <td>04-08-15</td>\n",
       "      <td>2015-08-04</td>\n",
       "      <td>10:22:56 AM</td>\n",
       "      <td>Internet</td>\n",
       "      <td>Acworth</td>\n",
       "      <td>Georgia</td>\n",
       "      <td>30102</td>\n",
       "      <td>Closed</td>\n",
       "      <td>No</td>\n",
       "      <td>8</td>\n",
       "      <td>4</td>\n",
       "      <td>[payment, disappear, service, disconnected]</td>\n",
       "    </tr>\n",
       "    <tr>\n",
       "      <th>2</th>\n",
       "      <td>242732</td>\n",
       "      <td>Speed and Service</td>\n",
       "      <td>18-04-15</td>\n",
       "      <td>2015-04-18</td>\n",
       "      <td>9:55:47 AM</td>\n",
       "      <td>Internet</td>\n",
       "      <td>Acworth</td>\n",
       "      <td>Georgia</td>\n",
       "      <td>30101</td>\n",
       "      <td>Closed</td>\n",
       "      <td>Yes</td>\n",
       "      <td>4</td>\n",
       "      <td>18</td>\n",
       "      <td>[speed, service]</td>\n",
       "    </tr>\n",
       "    <tr>\n",
       "      <th>3</th>\n",
       "      <td>277946</td>\n",
       "      <td>Comcast Imposed a New Usage Cap of 300GB that ...</td>\n",
       "      <td>05-07-15</td>\n",
       "      <td>2015-07-05</td>\n",
       "      <td>11:59:35 AM</td>\n",
       "      <td>Internet</td>\n",
       "      <td>Acworth</td>\n",
       "      <td>Georgia</td>\n",
       "      <td>30101</td>\n",
       "      <td>Open</td>\n",
       "      <td>Yes</td>\n",
       "      <td>7</td>\n",
       "      <td>5</td>\n",
       "      <td>[comcast, imposed, usage, punishes, streaming]</td>\n",
       "    </tr>\n",
       "    <tr>\n",
       "      <th>4</th>\n",
       "      <td>307175</td>\n",
       "      <td>Comcast not working and no service to boot</td>\n",
       "      <td>26-05-15</td>\n",
       "      <td>2015-05-26</td>\n",
       "      <td>1:25:26 PM</td>\n",
       "      <td>Internet</td>\n",
       "      <td>Acworth</td>\n",
       "      <td>Georgia</td>\n",
       "      <td>30101</td>\n",
       "      <td>Closed</td>\n",
       "      <td>No</td>\n",
       "      <td>5</td>\n",
       "      <td>26</td>\n",
       "      <td>[comcast, working, service, boot]</td>\n",
       "    </tr>\n",
       "  </tbody>\n",
       "</table>\n",
       "</div>"
      ],
      "text/plain": [
       "  Ticket #                                 Customer Complaint      Date   \n",
       "0   250635                      Comcast Cable Internet Speeds  22-04-15  \\\n",
       "1   223441       Payment disappear - service got disconnected  04-08-15   \n",
       "2   242732                                  Speed and Service  18-04-15   \n",
       "3   277946  Comcast Imposed a New Usage Cap of 300GB that ...  05-07-15   \n",
       "4   307175         Comcast not working and no service to boot  26-05-15   \n",
       "\n",
       "  Date_month_year         Time        Received Via      City     State   \n",
       "0      2015-04-22   3:53:50 PM  Customer Care Call  Abingdon  Maryland  \\\n",
       "1      2015-08-04  10:22:56 AM            Internet   Acworth   Georgia   \n",
       "2      2015-04-18   9:55:47 AM            Internet   Acworth   Georgia   \n",
       "3      2015-07-05  11:59:35 AM            Internet   Acworth   Georgia   \n",
       "4      2015-05-26   1:25:26 PM            Internet   Acworth   Georgia   \n",
       "\n",
       "   Zip code  Status Filing on Behalf of Someone  monthly_level  daily_level   \n",
       "0     21009  Closed                          No              4           22  \\\n",
       "1     30102  Closed                          No              8            4   \n",
       "2     30101  Closed                         Yes              4           18   \n",
       "3     30101    Open                         Yes              7            5   \n",
       "4     30101  Closed                          No              5           26   \n",
       "\n",
       "                                           tokens  \n",
       "0              [comcast, cable, internet, speeds]  \n",
       "1     [payment, disappear, service, disconnected]  \n",
       "2                                [speed, service]  \n",
       "3  [comcast, imposed, usage, punishes, streaming]  \n",
       "4               [comcast, working, service, boot]  "
      ]
     },
     "execution_count": 117,
     "metadata": {},
     "output_type": "execute_result"
    }
   ],
   "source": [
    "complaints.head()"
   ]
  },
  {
   "cell_type": "code",
   "execution_count": 118,
   "id": "ad3bd54b",
   "metadata": {},
   "outputs": [
    {
     "data": {
      "text/plain": [
       "Received Via\n",
       "Customer Care Call    1119\n",
       "Internet              1105\n",
       "Name: count, dtype: int64"
      ]
     },
     "execution_count": 118,
     "metadata": {},
     "output_type": "execute_result"
    }
   ],
   "source": [
    "complaints[\"Received Via\"].value_counts()"
   ]
  },
  {
   "cell_type": "code",
   "execution_count": 131,
   "id": "aaa4fdbd",
   "metadata": {},
   "outputs": [
    {
     "data": {
      "text/plain": [
       "Status\n",
       "Closed    843\n",
       "Open      262\n",
       "dtype: int64"
      ]
     },
     "execution_count": 131,
     "metadata": {},
     "output_type": "execute_result"
    }
   ],
   "source": [
    "complaints_received_through_internet=complaints[complaints[\"Received Via\"]==\"Internet\"]\n",
    "\n",
    "complaints_received_through_internet.groupby([\"Status\"]).size()"
   ]
  },
  {
   "cell_type": "code",
   "execution_count": 134,
   "id": "7a2616c2",
   "metadata": {},
   "outputs": [
    {
     "data": {
      "text/plain": [
       "76.289592760181"
      ]
     },
     "execution_count": 134,
     "metadata": {},
     "output_type": "execute_result"
    }
   ],
   "source": [
    "#Percentage of internet requests resolved:\n",
    "complaints_received_through_internet.groupby([\"Status\"]).size()[0]/(complaints_received_through_internet.groupby([\"Status\"]).size()[0]+ complaints_received_through_internet.groupby([\"Status\"]).size()[1]) *100"
   ]
  },
  {
   "cell_type": "code",
   "execution_count": 135,
   "id": "c33f3693",
   "metadata": {},
   "outputs": [
    {
     "data": {
      "text/plain": [
       "77.21179624664879"
      ]
     },
     "execution_count": 135,
     "metadata": {},
     "output_type": "execute_result"
    }
   ],
   "source": [
    "#Percentage of customer calls resolved:\n",
    "complaints_received_through_calls=complaints[complaints[\"Received Via\"]==\"Customer Care Call\"]\n",
    "complaints_received_through_calls.groupby([\"Status\"]).size()[0]/(complaints_received_through_calls.groupby([\"Status\"]).size()[0]+ complaints_received_through_calls.groupby([\"Status\"]).size()[1]) *100"
   ]
  }
 ],
 "metadata": {
  "kernelspec": {
   "display_name": "Python 3 (ipykernel)",
   "language": "python",
   "name": "python3"
  },
  "language_info": {
   "codemirror_mode": {
    "name": "ipython",
    "version": 3
   },
   "file_extension": ".py",
   "mimetype": "text/x-python",
   "name": "python",
   "nbconvert_exporter": "python",
   "pygments_lexer": "ipython3",
   "version": "3.9.7"
  }
 },
 "nbformat": 4,
 "nbformat_minor": 5
}
